{
 "cells": [
  {
   "cell_type": "markdown",
   "id": "1bd5c1d5",
   "metadata": {},
   "source": [
    "Volumes of revolutions:\n",
    "\n",
    "Functionality to calculate volume enclosed and rates of change \n",
    "\n",
    "Tutorial:\n",
    "\n",
    "In this tutorial we will calculate volumes of revolution to solve a problem involving filling up a irregular 3D shape\n",
    "\n",
    "Consider the following problem -\n",
    "Given that 2 functions f(x) and g(x), when rotated 360 degrees about the x-axis, forms the glass exterior of an aquarium. It contains a walkway in the centre, parallel to the x-axis, of volume 449.236m^3 (3.d.p). Calculate (to 3.d.p) whether with water coming in, with a rate of flow of 0.9m^3/min, the aquarium will fill up within 24 hours or not.\n",
    "\n",
    "F(x)=x^3+x^2-17x+15\n",
    "\n",
    "G(x)=27-9x"
   ]
  },
  {
   "cell_type": "markdown",
   "id": "d6c1e6aa",
   "metadata": {},
   "source": [
    "First we import the relevant library:"
   ]
  },
  {
   "cell_type": "code",
   "execution_count": null,
   "id": "f6cd4090",
   "metadata": {},
   "outputs": [],
   "source": [
    "import sympy as sym"
   ]
  },
  {
   "cell_type": "markdown",
   "id": "ea469a0d",
   "metadata": {},
   "source": [
    "To use mathematical symbols as variables, the sympy.Symbol command is used"
   ]
  },
  {
   "cell_type": "code",
   "execution_count": 2,
   "id": "9de6249f",
   "metadata": {},
   "outputs": [],
   "source": [
    "x = sym.Symbol(\"x\")"
   ]
  },
  {
   "cell_type": "code",
   "execution_count": 3,
   "id": "259006f5",
   "metadata": {},
   "outputs": [],
   "source": [
    "a = sym.Symbol(\"a\")"
   ]
  },
  {
   "cell_type": "code",
   "execution_count": 4,
   "id": "6b9ccee3",
   "metadata": {},
   "outputs": [],
   "source": [
    "b = sym.Symbol(\"b\")"
   ]
  },
  {
   "cell_type": "code",
   "execution_count": 5,
   "id": "6418218d",
   "metadata": {},
   "outputs": [],
   "source": [
    "c = sym.Symbol(\"c\")"
   ]
  },
  {
   "cell_type": "code",
   "execution_count": 6,
   "id": "18e1e985",
   "metadata": {},
   "outputs": [],
   "source": [
    "d = sym.Symbol(\"d\")"
   ]
  },
  {
   "cell_type": "markdown",
   "id": "6b39e3a5",
   "metadata": {},
   "source": [
    "The user is now prompted to input the coefficients using the int(input) function, the coefficients must be numbers not words (string)"
   ]
  },
  {
   "cell_type": "code",
   "execution_count": 7,
   "id": "81aa486d",
   "metadata": {},
   "outputs": [
    {
     "name": "stdout",
     "output_type": "stream",
     "text": [
      "enter coefficient of x^3: 1\n"
     ]
    }
   ],
   "source": [
    "a = int(input(\"enter coefficient of x^3: \"))"
   ]
  },
  {
   "cell_type": "code",
   "execution_count": 8,
   "id": "5679c4cb",
   "metadata": {},
   "outputs": [
    {
     "name": "stdout",
     "output_type": "stream",
     "text": [
      "enter coefficient of x^2: 1\n"
     ]
    }
   ],
   "source": [
    "b = int(input(\"enter coefficient of x^2: \"))"
   ]
  },
  {
   "cell_type": "code",
   "execution_count": 9,
   "id": "669658c3",
   "metadata": {},
   "outputs": [
    {
     "name": "stdout",
     "output_type": "stream",
     "text": [
      "enter coefficent of x: -17\n"
     ]
    }
   ],
   "source": [
    "c = int(input(\"enter coefficent of x: \"))"
   ]
  },
  {
   "cell_type": "code",
   "execution_count": 10,
   "id": "33b5b5da",
   "metadata": {},
   "outputs": [
    {
     "name": "stdout",
     "output_type": "stream",
     "text": [
      "enter constant: 15\n"
     ]
    }
   ],
   "source": [
    "d = int(input(\"enter constant: \"))"
   ]
  },
  {
   "cell_type": "markdown",
   "id": "de1c485d",
   "metadata": {},
   "source": [
    "The user is now prompted to input the coefficients for the linear function using the int(input) function, the coefficients must be numbers not words (string)"
   ]
  },
  {
   "cell_type": "code",
   "execution_count": 13,
   "id": "b06a183a",
   "metadata": {},
   "outputs": [
    {
     "name": "stdout",
     "output_type": "stream",
     "text": [
      "enter m: -9\n"
     ]
    }
   ],
   "source": [
    "m = int(input(\"enter coefficient of x: \"))"
   ]
  },
  {
   "cell_type": "code",
   "execution_count": 14,
   "id": "675dafd2",
   "metadata": {},
   "outputs": [
    {
     "name": "stdout",
     "output_type": "stream",
     "text": [
      "enter n: 27\n"
     ]
    }
   ],
   "source": [
    "n = int(input(\"enter constant: \"))"
   ]
  },
  {
   "cell_type": "markdown",
   "id": "af06fcbf",
   "metadata": {},
   "source": [
    "Now we must import the plot library to plot a graph of the 2 functions intersecting"
   ]
  },
  {
   "cell_type": "code",
   "execution_count": 105,
   "id": "83ec6eef",
   "metadata": {},
   "outputs": [],
   "source": [
    "from sympy.plotting import plot "
   ]
  },
  {
   "cell_type": "markdown",
   "id": "08620a27",
   "metadata": {},
   "source": [
    "We must then import pi because it is part of the volumes of revolution formula"
   ]
  },
  {
   "cell_type": "code",
   "execution_count": 22,
   "id": "7735d5c4",
   "metadata": {},
   "outputs": [],
   "source": [
    "pi = sym.pi"
   ]
  },
  {
   "cell_type": "markdown",
   "id": "49e6d9af",
   "metadata": {},
   "source": [
    "We now integrate this new expression, using sym.integrate"
   ]
  },
  {
   "cell_type": "code",
   "execution_count": 25,
   "id": "638939c1",
   "metadata": {},
   "outputs": [
    {
     "data": {
      "text/latex": [
       "$\\displaystyle \\frac{\\pi x^{7}}{7} + \\frac{\\pi x^{6}}{3} - 3 \\pi x^{5} - 10 \\pi x^{4} + \\frac{40 \\pi x^{3}}{3} + 96 \\pi x^{2} + 144 \\pi x$"
      ],
      "text/plain": [
       "pi*x**7/7 + pi*x**6/3 - 3*pi*x**5 - 10*pi*x**4 + 40*pi*x**3/3 + 96*pi*x**2 + 144*pi*x"
      ]
     },
     "execution_count": 25,
     "metadata": {},
     "output_type": "execute_result"
    }
   ],
   "source": [
    "integratedFunc = sym.integrate(Volume, x)\n",
    "integratedFunc"
   ]
  },
  {
   "cell_type": "markdown",
   "id": "d1cc2a92",
   "metadata": {},
   "source": [
    "Using the float(input) function, the user can input the volume or their pathway"
   ]
  },
  {
   "cell_type": "code",
   "execution_count": 31,
   "id": "c2af37c2",
   "metadata": {},
   "outputs": [
    {
     "name": "stdout",
     "output_type": "stream",
     "text": [
      "enter volume of pathway: 449.236\n"
     ]
    }
   ],
   "source": [
    "Tube = float(input(\"enter volume of pathway: \"))"
   ]
  },
  {
   "cell_type": "markdown",
   "id": "2a02b90a",
   "metadata": {},
   "source": [
    "Using the int(input) function, the user is prompted to enter in the maximum hours permitted to fill up the aquarium"
   ]
  },
  {
   "cell_type": "code",
   "execution_count": 41,
   "id": "8564c29f",
   "metadata": {},
   "outputs": [
    {
     "name": "stdout",
     "output_type": "stream",
     "text": [
      "enter maximum hours to fill up aquarium: 24\n"
     ]
    }
   ],
   "source": [
    "TimeHours = int(input(\"enter maximum hours to fill up aquarium: \"))"
   ]
  },
  {
   "cell_type": "markdown",
   "id": "37bc0622",
   "metadata": {},
   "source": [
    "The rate of flow is compared to the maximum rate of flow that is currently in use and will tell the user whether or not it is sufficient"
   ]
  },
  {
   "cell_type": "code",
   "execution_count": 45,
   "id": "7f5eab7c",
   "metadata": {},
   "outputs": [
    {
     "name": "stdout",
     "output_type": "stream",
     "text": [
      "No it will not fill up within the time frame\n"
     ]
    }
   ],
   "source": [
    "if Rate>0.9:\n",
    "    print(\"No it will not fill up within the time frame\")\n",
    "if Rate<=0.9:\n",
    "    print(\"Yes it will fill up within the time frame\")"
   ]
  },
  {
   "cell_type": "markdown",
   "id": "8f6ea0f8",
   "metadata": {},
   "source": [
    "How to:"
   ]
  },
  {
   "cell_type": "markdown",
   "id": "eb2db37c",
   "metadata": {},
   "source": [
    "F(x) is formed by multiplying the coefficients by the variables and adding them together"
   ]
  },
  {
   "cell_type": "code",
   "execution_count": null,
   "id": "a46f5b54",
   "metadata": {},
   "outputs": [],
   "source": [
    "Cubic = (a * x**3) + (b * x**2) + (c * x) + (d)\n",
    "Cubic"
   ]
  },
  {
   "cell_type": "markdown",
   "id": "fa13d629",
   "metadata": {},
   "source": [
    "G(x) is formed by multiplying the coefficients by the variables and adding them together"
   ]
  },
  {
   "cell_type": "code",
   "execution_count": null,
   "id": "48823210",
   "metadata": {},
   "outputs": [],
   "source": [
    "StraightLine = m * x + n\n",
    "StraightLine"
   ]
  },
  {
   "cell_type": "markdown",
   "id": "4c379cc0",
   "metadata": {},
   "source": [
    "We must equate F(x) and G(x) to solve the equation and we use the sym.solveset function to output the roots"
   ]
  },
  {
   "cell_type": "code",
   "execution_count": null,
   "id": "e58ce450",
   "metadata": {},
   "outputs": [],
   "source": [
    "equation = sym.Eq(lhs = Cubic, rhs = StraightLine)\n",
    "equation"
   ]
  },
  {
   "cell_type": "code",
   "execution_count": null,
   "id": "f74eb3d1",
   "metadata": {},
   "outputs": [],
   "source": [
    "solutions = sym.solveset(equation)\n",
    "sym.solveset(equation)"
   ]
  },
  {
   "cell_type": "markdown",
   "id": "19958df0",
   "metadata": {},
   "source": [
    "There can be a range from 0-3 intersections. If there are 0, there will not be an area enclosed. If there is 1, the area will be infinite. If there are 2 or 3 it is faesable that there is an area enclosed. To make sure this is displayed on the graph, we use the solutions.args[] function to get all the intersections on the graph, adding or subtracting 1 to give a better perspective. Using the if len(solutions) function, we know how many intersections there are and it will tell you whether or not the function is valid for to provide an area"
   ]
  },
  {
   "cell_type": "code",
   "execution_count": null,
   "id": "a5e23a5b",
   "metadata": {},
   "outputs": [],
   "source": [
    "if len(solutions) == 0:\n",
    "    print(\"The 2 functions do not intersect therefore there is no area enclosed\")"
   ]
  },
  {
   "cell_type": "code",
   "execution_count": null,
   "id": "83e8419c",
   "metadata": {},
   "outputs": [],
   "source": [
    "if len(solutions) == 1:\n",
    "    print(\"The area enclosed is infinite therefore there is no valid solution\")"
   ]
  },
  {
   "cell_type": "code",
   "execution_count": null,
   "id": "d4536fd6",
   "metadata": {},
   "outputs": [],
   "source": [
    "if len(solutions) == 2:\n",
    "    plot(Cubic, StraightLine, (x, ((solutions.args[0])-1),((solutions.args[1])+1)))"
   ]
  },
  {
   "cell_type": "code",
   "execution_count": null,
   "id": "2299e598",
   "metadata": {},
   "outputs": [],
   "source": [
    "if len(solutions) == 3:\n",
    "       plot(Cubic, StraightLine, (x, ((solutions.args[0])-1),((solutions.args[2])+1)))"
   ]
  },
  {
   "cell_type": "markdown",
   "id": "f7af238a",
   "metadata": {},
   "source": [
    "To integrate the area enclosed, you must first subtract F(x) from G(x)"
   ]
  },
  {
   "cell_type": "code",
   "execution_count": null,
   "id": "4b5c6e22",
   "metadata": {},
   "outputs": [],
   "source": [
    "expression = StraightLine - Cubic\n",
    "expression"
   ]
  },
  {
   "cell_type": "markdown",
   "id": "e498cbf1",
   "metadata": {},
   "source": [
    "Depending on the amount of intersections given earlier we substitute the solutions in as x, using the solutions.args[] function. Making sure to get the absolute value so that we do not get a negative area"
   ]
  },
  {
   "cell_type": "code",
   "execution_count": null,
   "id": "c3801206",
   "metadata": {},
   "outputs": [],
   "source": [
    "if len(solutions) == 2:\n",
    "    totalArea = abs(sym.integrate(Volume, (x , solutions.args[0], solutions.args[1])))\n",
    "    print(totalArea)"
   ]
  },
  {
   "cell_type": "code",
   "execution_count": null,
   "id": "fe40a5ed",
   "metadata": {},
   "outputs": [],
   "source": [
    "if len(solutions) == 3:\n",
    "    totalArea = abs(sym.integrate(expression, (x , solutions.args[0], solutions.args[1])))\n",
    "    totalArea = totalArea + abs(sym.integrate(expression, (x , solutions.args[1], solutions.args[2])))\n",
    "    print(totalArea)"
   ]
  },
  {
   "cell_type": "markdown",
   "id": "8a692cfd",
   "metadata": {},
   "source": [
    "Then we put our expression into the volume of revolution formula "
   ]
  },
  {
   "cell_type": "code",
   "execution_count": null,
   "id": "3f579a46",
   "metadata": {},
   "outputs": [],
   "source": [
    "Volume = pi*expression**2\n",
    "Volume"
   ]
  },
  {
   "cell_type": "markdown",
   "id": "5f669622",
   "metadata": {},
   "source": [
    "We now have the volume of our aquarium but still need to take away the pathway"
   ]
  },
  {
   "cell_type": "code",
   "execution_count": null,
   "id": "05c00929",
   "metadata": {},
   "outputs": [],
   "source": [
    "totalArea"
   ]
  },
  {
   "cell_type": "markdown",
   "id": "9d907c44",
   "metadata": {},
   "source": [
    "Round the volume to 3.d.p to simplify the expression"
   ]
  },
  {
   "cell_type": "code",
   "execution_count": null,
   "id": "dda14077",
   "metadata": {},
   "outputs": [],
   "source": [
    "wholeVolume = round(totalArea,3)\n",
    "wholeVolume"
   ]
  },
  {
   "cell_type": "markdown",
   "id": "d3457200",
   "metadata": {},
   "source": [
    "Here is the volume of the pathway and we can now subtract that from the volume of the aquarium to get the volume we must fill with water to 3.d.p"
   ]
  },
  {
   "cell_type": "code",
   "execution_count": null,
   "id": "ea6cf7e6",
   "metadata": {},
   "outputs": [],
   "source": [
    "Tube"
   ]
  },
  {
   "cell_type": "code",
   "execution_count": null,
   "id": "f6e6d560",
   "metadata": {},
   "outputs": [],
   "source": [
    "Aquarium = round(wholeVolume - Tube,3)\n",
    "Aquarium"
   ]
  },
  {
   "cell_type": "markdown",
   "id": "c996f71d",
   "metadata": {},
   "source": [
    "We must now convert the time in hours to the standard units for volume/time (minutes)"
   ]
  },
  {
   "cell_type": "code",
   "execution_count": null,
   "id": "2ae85c5e",
   "metadata": {},
   "outputs": [],
   "source": [
    "TimeMinutes = 60*TimeHours"
   ]
  },
  {
   "cell_type": "markdown",
   "id": "4ff3814c",
   "metadata": {},
   "source": [
    "The rate of flow required is the volume divided by the time permitted"
   ]
  },
  {
   "cell_type": "code",
   "execution_count": null,
   "id": "9161d7ca",
   "metadata": {},
   "outputs": [],
   "source": [
    "Rate = round(Aquarium/TimeMinutes,3)\n",
    "Rate"
   ]
  },
  {
   "cell_type": "markdown",
   "id": "c642e0dd",
   "metadata": {},
   "source": [
    "Explanation\n",
    "\n",
    "Integration\n",
    "\n",
    "Integration is used to find a selected area of a graph. This could be the area between a function and the x-axis or the area enclosed between two different functions, for example. In this case, we used integration to calculate the area enclosed by the functions f(x)= x^3 + x^2 - 17x + 15 and g(x)= -9x + 27. The upper and lower limits of integration are found at the intersection points shared by the two functions, x = 3 and x = -2. In [1] we find that there are numerous methods of integration. The main methods are integration by substitution and integration by parts. Trigonmetric identities may also need to be used simultaneously with these methods in order to simplify the expression given and allow the function to be integrable. As well as this, integrals can either be definite or indefinite. A definite integral contains upper and lower limits which can be evaluated for the function, resulting in a definite solution. On the other hand, an indefinite integral is a function which takes the antiderivate of another function.\n",
    "\n",
    "Volume of Revolution\n",
    "\n",
    "Volume of revolution is the volume of the irregular shape formed when the function is rotated around the x-axis or y-axis. There are numerous methods that can be used to calculate the volume. [2] states the disc method can be used for two-dimensional rotated objects, where cross sections are perpendicular to the axis of rotation and the axis of rotation is the boundary. In our example we rotated the function around the x-axis and used the washer method, where the axis of rotation is not the boundary. The washer method involves squaring the function and multiplying by pi. The shape formed when this process is carried out is similar to that of a horizontal vase.\n",
    "\n",
    "Rate of Flow\n",
    "\n",
    "Rate of flow, in this situation, is the volume of water entering the aquerium per unit time. [3] states you can measure the rate of flow throuh a faucet by timing how long it takes to fill a graduated container. In this instance, the rate of flow has the units m^3/minute. Standard units for liquid is litres. To get this into m^3 we must multiply by 1000 as 1000L = 1m^3. Standard unit of time is seconds. In this situation we have used minutes so in order to convert from seconds to minutes we must divide by 60. To convert from hours to minutes we multiply by 60 which gives us 1440 minutes in the time frame of 24 hours for the basis of our question."
   ]
  },
  {
   "cell_type": "markdown",
   "id": "15993630",
   "metadata": {},
   "source": [
    "[1] \"Methods of Integration\"\n",
    "https://byjus.com/maths/methods-of-integration/\n",
    "[2] Stephanie Glenn. \"Disc Method (Disk Integration)\". (2021)\n",
    "https://www.calculushowto.com/disc-method/\n",
    "[3] Chris Deziel.\"How to Calculate Flow Rates\" (December 2020)\n",
    " https://sciencing.com/calculate-flow-rates-6199676.html. "
   ]
  }
 ],
 "metadata": {
  "kernelspec": {
   "display_name": "Python 3",
   "language": "python",
   "name": "python3"
  },
  "language_info": {
   "codemirror_mode": {
    "name": "ipython",
    "version": 3
   },
   "file_extension": ".py",
   "mimetype": "text/x-python",
   "name": "python",
   "nbconvert_exporter": "python",
   "pygments_lexer": "ipython3",
   "version": "3.8.8"
  }
 },
 "nbformat": 4,
 "nbformat_minor": 5
}
