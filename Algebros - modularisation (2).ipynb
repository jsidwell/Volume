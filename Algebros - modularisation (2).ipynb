{
 "cells": [
  {
   "cell_type": "code",
   "execution_count": 4,
   "id": "4390c819",
   "metadata": {},
   "outputs": [
    {
     "name": "stdout",
     "output_type": "stream",
     "text": [
      "enter coefficient of x^3: 1\n",
      "enter coefficient of x^2: 1\n",
      "enter coefficent of x: -17\n",
      "enter constant: 15\n",
      "enter coefficeint of x: -9\n",
      "enter constant: 27\n"
     ]
    },
    {
     "data": {
      "image/png": "[encoded data removed]",
      "text/plain": [
       "<Figure size 432x288 with 1 Axes>"
      ]
     },
     "metadata": {
      "needs_background": "light"
     },
     "output_type": "display_data"
    },
    {
     "name": "stdout",
     "output_type": "stream",
     "text": [
      "enter volume of pathway: 449.236\n",
      "enter maximum hours to fill up aquarium: 24\n",
      "No it will not fill up within the time frame\n"
     ]
    }
   ],
   "source": [
    "import sympy as sym\n",
    "\n",
    "x = sym.Symbol(\"x\")\n",
    "b = sym.Symbol(\"b\")\n",
    "c = sym.Symbol(\"c\")\n",
    "d = sym.Symbol(\"d\")\n",
    "\n",
    "def GetCubic():\n",
    "    x3coeff = int(input(\"enter coefficient of x^3: \"))\n",
    "    x2coeff = int(input(\"enter coefficient of x^2: \"))\n",
    "    x1coeff = int(input(\"enter coefficent of x: \"))\n",
    "    x0coeff = int(input(\"enter constant: \"))\n",
    "    cub_list = [x3coeff, x2coeff, x1coeff, x0coeff]\n",
    "    return(cub_list)\n",
    "\n",
    "def GetLinear():\n",
    "    m = int(input(\"enter coefficeint of x: \"))\n",
    "    n = int(input(\"enter constant: \"))\n",
    "    lin_list = [m, n]\n",
    "    return(lin_list)\n",
    "\n",
    "def SolveFuncs(cub, lin):\n",
    "    \n",
    "    Cubic = (cub[0] * x**3) + (cub[1] * x**2) + (cub[2] * x) + (cub[3])\n",
    "    StraightLine = lin[0] * x + lin[1]\n",
    "    equation = sym.Eq(lhs = Cubic, rhs = StraightLine)\n",
    "    solutions = sym.solveset(equation)\n",
    "    sol_list = [Cubic, StraightLine, equation, solutions]\n",
    "    return(sol_list)\n",
    "\n",
    "def PlotFuncs(sol):\n",
    "    solutions = sym.solveset(sol[2])\n",
    "    from sympy.plotting import plot \n",
    "    if len(solutions) == 1:\n",
    "        print(\"The area enclosed is infinite therefore there is no valid solution\")\n",
    "    elif len(solutions) == 2:\n",
    "        plot(sol[0], sol[1], (x, ((sol[3].args[0])-1),((sol[3].args[1])+1)))\n",
    "    else:\n",
    "        plot(sol[0], sol[1], (x, ((sol[3].args[0])-1),((sol[3].args[2])+1)))\n",
    "        \n",
    "def GetVolume(sol):\n",
    "    expression = sol[1] - sol[0]\n",
    "    pi = sym.pi\n",
    "    Volume = pi*(expression**2)\n",
    "    vol_list = [expression, Volume]\n",
    "    return(vol_list)\n",
    "        \n",
    "def GetArea(sol, vol):\n",
    "    if len(sol[3]) == 2:\n",
    "        totalArea = abs(sym.integrate(vol[1], (x , sol[3].args[0], sol[3].args[1])))\n",
    "    elif len(sol[3]) == 3:\n",
    "        totalArea = abs(sym.integrate(vol[0], (x , sol[3].args[0], sol[3].args[1])))\n",
    "        totalArea = totalArea + abs(sym.integrate(vol[0], (x , sol[3].args[1], sol[3].args[2])))\n",
    "    wholeVolume = round(totalArea, 3)\n",
    "    are_list = [wholeVolume]\n",
    "    return(are_list)\n",
    "\n",
    "def AquariumModel(are):\n",
    "    Tube = float(input(\"enter volume of pathway: \"))\n",
    "    Aquarium = round(are[0] - Tube,3)\n",
    "    TimeHours = int(input(\"enter maximum hours to fill up aquarium: \"))\n",
    "    TimeMinutes = 60*TimeHours\n",
    "    Rate = round(Aquarium/TimeMinutes,3)\n",
    "    if Rate > 0.9:\n",
    "        print(\"No it will not fill up within the time frame\")\n",
    "    if Rate <= 0.9:\n",
    "        print(\"Yes it will fill up within the time frame\")\n",
    "    \n",
    "def Main():\n",
    "    a = GetCubic()\n",
    "    b = GetLinear()\n",
    "    c = SolveFuncs(a, b)\n",
    "    d = PlotFuncs(c)\n",
    "    e = GetVolume(c)\n",
    "    f = GetArea(c, e)\n",
    "    g = AquariumModel(f)\n",
    "    \n",
    "Main()"
   ]
  },
  {
   "cell_type": "markdown",
   "id": "e39d0ae7",
   "metadata": {},
   "source": [
    "# "
   ]
  },
  {
   "cell_type": "code",
   "execution_count": null,
   "id": "e8e6ae8e",
   "metadata": {},
   "outputs": [],
   "source": []
  }
 ],
 "metadata": {
  "kernelspec": {
   "display_name": "Python 3",
   "language": "python",
   "name": "python3"
  },
  "language_info": {
   "codemirror_mode": {
    "name": "ipython",
    "version": 3
   },
   "file_extension": ".py",
   "mimetype": "text/x-python",
   "name": "python",
   "nbconvert_exporter": "python",
   "pygments_lexer": "ipython3",
   "version": "3.8.8"
  }
 },
 "nbformat": 4,
 "nbformat_minor": 5
}
