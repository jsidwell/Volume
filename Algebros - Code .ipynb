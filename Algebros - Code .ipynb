{
 "cells": [
  {
   "cell_type": "code",
   "execution_count": 48,
   "id": "33a6b4c3",
   "metadata": {},
   "outputs": [],
   "source": [
    "import sympy as sym"
   ]
  },
  {
   "cell_type": "markdown",
   "id": "5ca25861",
   "metadata": {},
   "source": [
    "Sympy is a library inside python for writing and solving mathematics"
   ]
  },
  {
   "cell_type": "code",
   "execution_count": 2,
   "id": "9de6249f",
   "metadata": {},
   "outputs": [],
   "source": [
    "x = sym.Symbol(\"x\")"
   ]
  },
  {
   "cell_type": "code",
   "execution_count": 3,
   "id": "259006f5",
   "metadata": {},
   "outputs": [],
   "source": [
    "a = sym.Symbol(\"a\")"
   ]
  },
  {
   "cell_type": "code",
   "execution_count": 4,
   "id": "6b9ccee3",
   "metadata": {},
   "outputs": [],
   "source": [
    "b = sym.Symbol(\"b\")"
   ]
  },
  {
   "cell_type": "code",
   "execution_count": 5,
   "id": "6418218d",
   "metadata": {},
   "outputs": [],
   "source": [
    "c = sym.Symbol(\"c\")"
   ]
  },
  {
   "cell_type": "code",
   "execution_count": 6,
   "id": "18e1e985",
   "metadata": {},
   "outputs": [],
   "source": [
    "d = sym.Symbol(\"d\")"
   ]
  },
  {
   "cell_type": "markdown",
   "id": "6b39e3a5",
   "metadata": {},
   "source": [
    "To use mathematical symbols instead for variables, the sympy.Symbol command is used"
   ]
  },
  {
   "cell_type": "code",
   "execution_count": 7,
   "id": "81aa486d",
   "metadata": {},
   "outputs": [
    {
     "name": "stdout",
     "output_type": "stream",
     "text": [
      "enter coefficient of x^3: 1\n"
     ]
    }
   ],
   "source": [
    "a = int(input(\"enter coefficient of x^3: \"))"
   ]
  },
  {
   "cell_type": "code",
   "execution_count": 8,
   "id": "5679c4cb",
   "metadata": {},
   "outputs": [
    {
     "name": "stdout",
     "output_type": "stream",
     "text": [
      "enter coefficient of x^2: 1\n"
     ]
    }
   ],
   "source": [
    "b = int(input(\"enter coefficient of x^2: \"))"
   ]
  },
  {
   "cell_type": "code",
   "execution_count": 9,
   "id": "669658c3",
   "metadata": {},
   "outputs": [
    {
     "name": "stdout",
     "output_type": "stream",
     "text": [
      "enter coefficent of x: -17\n"
     ]
    }
   ],
   "source": [
    "c = int(input(\"enter coefficent of x: \"))"
   ]
  },
  {
   "cell_type": "code",
   "execution_count": 10,
   "id": "33b5b5da",
   "metadata": {},
   "outputs": [
    {
     "name": "stdout",
     "output_type": "stream",
     "text": [
      "enter constant: 15\n"
     ]
    }
   ],
   "source": [
    "d = int(input(\"enter constant: \"))"
   ]
  },
  {
   "cell_type": "markdown",
   "id": "9172620f",
   "metadata": {},
   "source": [
    "The user can enter any coefficients for the cubic that they like, provided they are numbers not words (string)"
   ]
  },
  {
   "cell_type": "code",
   "execution_count": 16,
   "id": "c2374bea",
   "metadata": {},
   "outputs": [
    {
     "data": {
      "text/latex": [
       "$\\displaystyle x^{3} + x^{2} - 17 x + 15$"
      ],
      "text/plain": [
       "x**3 + x**2 - 17*x + 15"
      ]
     },
     "execution_count": 16,
     "metadata": {},
     "output_type": "execute_result"
    }
   ],
   "source": [
    "Cubic = (a * x**3) + (b * x**2) + (c * x) + (d)\n",
    "Cubic"
   ]
  },
  {
   "cell_type": "code",
   "execution_count": 13,
   "id": "b06a183a",
   "metadata": {},
   "outputs": [
    {
     "name": "stdout",
     "output_type": "stream",
     "text": [
      "enter m: -9\n"
     ]
    }
   ],
   "source": [
    "m = int(input(\"enter m: \"))"
   ]
  },
  {
   "cell_type": "code",
   "execution_count": 14,
   "id": "675dafd2",
   "metadata": {},
   "outputs": [
    {
     "name": "stdout",
     "output_type": "stream",
     "text": [
      "enter n: 27\n"
     ]
    }
   ],
   "source": [
    "n = int(input(\"enter n: \"))"
   ]
  },
  {
   "cell_type": "markdown",
   "id": "dcd69296",
   "metadata": {},
   "source": [
    "The user can enter any coefficients for the straight line that they like, provided they are numbers not words (string)"
   ]
  },
  {
   "cell_type": "code",
   "execution_count": 18,
   "id": "17b3e378",
   "metadata": {},
   "outputs": [
    {
     "data": {
      "text/latex": [
       "$\\displaystyle 27 - 9 x$"
      ],
      "text/plain": [
       "27 - 9*x"
      ]
     },
     "execution_count": 18,
     "metadata": {},
     "output_type": "execute_result"
    }
   ],
   "source": [
    "StraightLine = m * x + n\n",
    "StraightLine"
   ]
  },
  {
   "cell_type": "code",
   "execution_count": 19,
   "id": "a8a1e47c",
   "metadata": {},
   "outputs": [
    {
     "data": {
      "text/latex": [
       "$\\displaystyle x^{3} + x^{2} - 17 x + 15 = 27 - 9 x$"
      ],
      "text/plain": [
       "Eq(x**3 + x**2 - 17*x + 15, 27 - 9*x)"
      ]
     },
     "execution_count": 19,
     "metadata": {},
     "output_type": "execute_result"
    }
   ],
   "source": [
    "equation = sym.Eq(lhs = Cubic, rhs = StraightLine)\n",
    "equation"
   ]
  },
  {
   "cell_type": "code",
   "execution_count": 20,
   "id": "478a765a",
   "metadata": {},
   "outputs": [
    {
     "data": {
      "text/latex": [
       "$\\displaystyle \\left\\{-2, 3\\right\\}$"
      ],
      "text/plain": [
       "FiniteSet(-2, 3)"
      ]
     },
     "execution_count": 20,
     "metadata": {},
     "output_type": "execute_result"
    }
   ],
   "source": [
    "solutions = sym.solveset(equation)\n",
    "sym.solveset(equation)"
   ]
  },
  {
   "cell_type": "markdown",
   "id": "af06fcbf",
   "metadata": {},
   "source": [
    "Solving this equation gives the points at which the straight line and curve meet.\n",
    "These are the points used in the definite integral to give the area between the two lines."
   ]
  },
  {
   "cell_type": "code",
   "execution_count": 105,
   "id": "83ec6eef",
   "metadata": {},
   "outputs": [],
   "source": [
    "from sympy.plotting import plot "
   ]
  },
  {
   "cell_type": "markdown",
   "id": "c0a76513",
   "metadata": {},
   "source": [
    "The plot system allows us to plot graphs"
   ]
  },
  {
   "cell_type": "code",
   "execution_count": 106,
   "id": "1c832f4a",
   "metadata": {},
   "outputs": [],
   "source": [
    "if len(solutions) == 1:\n",
    "    print(\"The area enclosed is infinite therefore there is no valid solution\")"
   ]
  },
  {
   "cell_type": "code",
   "execution_count": 107,
   "id": "10eb370d",
   "metadata": {},
   "outputs": [
    {
     "data": {
      "image/png": "[encoded data removed]",
      "text/plain": [
       "<Figure size 432x288 with 1 Axes>"
      ]
     },
     "metadata": {
      "needs_background": "light"
     },
     "output_type": "display_data"
    }
   ],
   "source": [
    "if len(solutions) == 2:\n",
    "    plot(Cubic, StraightLine, (x, ((solutions.args[0])-1),((solutions.args[1])+1)))"
   ]
  },
  {
   "cell_type": "code",
   "execution_count": 108,
   "id": "bb1f5486",
   "metadata": {},
   "outputs": [],
   "source": [
    "if len(solutions) == 3:\n",
    "       plot(Cubic, StraightLine, (x, ((solutions.args[0])-1),((solutions.args[2])+1)))"
   ]
  },
  {
   "cell_type": "markdown",
   "id": "46827bc1",
   "metadata": {},
   "source": [
    "This plots the intersections of the 2 functions, if there is 1 intersection there is no area enclosed so the calculation will not work, and using the solutions.args function, we make sure you can see where the functions intersect and whether there are 2 or 3 intersections"
   ]
  },
  {
   "cell_type": "code",
   "execution_count": 21,
   "id": "206be010",
   "metadata": {},
   "outputs": [
    {
     "data": {
      "text/latex": [
       "$\\displaystyle - x^{3} - x^{2} + 8 x + 12$"
      ],
      "text/plain": [
       "-x**3 - x**2 + 8*x + 12"
      ]
     },
     "execution_count": 21,
     "metadata": {},
     "output_type": "execute_result"
    }
   ],
   "source": [
    "expression = StraightLine - Cubic\n",
    "expression"
   ]
  },
  {
   "cell_type": "markdown",
   "id": "08620a27",
   "metadata": {},
   "source": [
    "Taking the cubic away from the straight gives us the equation for the area enclosed between them"
   ]
  },
  {
   "cell_type": "code",
   "execution_count": 22,
   "id": "7735d5c4",
   "metadata": {},
   "outputs": [],
   "source": [
    "pi = sym.pi"
   ]
  },
  {
   "cell_type": "markdown",
   "id": "73ca34d4",
   "metadata": {},
   "source": [
    "We need to use pi to work out the volume of revolution"
   ]
  },
  {
   "cell_type": "code",
   "execution_count": 24,
   "id": "eca993f8",
   "metadata": {},
   "outputs": [
    {
     "data": {
      "text/latex": [
       "$\\displaystyle \\pi \\left(- x^{3} - x^{2} + 8 x + 12\\right)^{2}$"
      ],
      "text/plain": [
       "pi*(-x**3 - x**2 + 8*x + 12)**2"
      ]
     },
     "execution_count": 24,
     "metadata": {},
     "output_type": "execute_result"
    }
   ],
   "source": [
    "Volume = pi*expression**2\n",
    "Volume"
   ]
  },
  {
   "cell_type": "markdown",
   "id": "49e6d9af",
   "metadata": {},
   "source": [
    "This is the formula for volume of revolution about the x axis"
   ]
  },
  {
   "cell_type": "code",
   "execution_count": 25,
   "id": "638939c1",
   "metadata": {},
   "outputs": [
    {
     "data": {
      "text/latex": [
       "$\\displaystyle \\frac{\\pi x^{7}}{7} + \\frac{\\pi x^{6}}{3} - 3 \\pi x^{5} - 10 \\pi x^{4} + \\frac{40 \\pi x^{3}}{3} + 96 \\pi x^{2} + 144 \\pi x$"
      ],
      "text/plain": [
       "pi*x**7/7 + pi*x**6/3 - 3*pi*x**5 - 10*pi*x**4 + 40*pi*x**3/3 + 96*pi*x**2 + 144*pi*x"
      ]
     },
     "execution_count": 25,
     "metadata": {},
     "output_type": "execute_result"
    }
   ],
   "source": [
    "integratedFunc = sym.integrate(Volume, x)\n",
    "integratedFunc"
   ]
  },
  {
   "cell_type": "markdown",
   "id": "20bceda9",
   "metadata": {},
   "source": [
    "The integrated volume"
   ]
  },
  {
   "cell_type": "code",
   "execution_count": 27,
   "id": "9d9ad1a2",
   "metadata": {},
   "outputs": [
    {
     "name": "stdout",
     "output_type": "stream",
     "text": [
      "15625*pi/21\n"
     ]
    }
   ],
   "source": [
    "if len(solutions) == 2:\n",
    "    totalArea = abs(sym.integrate(Volume, (x , solutions.args[0], solutions.args[1])))\n",
    "    print(totalArea)"
   ]
  },
  {
   "cell_type": "code",
   "execution_count": 28,
   "id": "51c1ee8d",
   "metadata": {},
   "outputs": [],
   "source": [
    "if len(solutions) == 3:\n",
    "    totalArea = abs(sym.integrate(expression, (x , solutions.args[0], solutions.args[1])))\n",
    "    totalArea = totalArea + abs(sym.integrate(expression, (x , solutions.args[1], solutions.args[2])))\n",
    "    print(totalArea)"
   ]
  },
  {
   "cell_type": "markdown",
   "id": "34f403c0",
   "metadata": {},
   "source": [
    "Whether there are 2 or 3 solutions, it will substitue in x for the interceptions between the functions. Making sure it outputs a positive number"
   ]
  },
  {
   "cell_type": "code",
   "execution_count": 29,
   "id": "6f96a5ef",
   "metadata": {},
   "outputs": [
    {
     "data": {
      "text/latex": [
       "$\\displaystyle \\frac{15625 \\pi}{21}$"
      ],
      "text/plain": [
       "15625*pi/21"
      ]
     },
     "execution_count": 29,
     "metadata": {},
     "output_type": "execute_result"
    }
   ],
   "source": [
    "totalArea"
   ]
  },
  {
   "cell_type": "code",
   "execution_count": 30,
   "id": "8076c004",
   "metadata": {},
   "outputs": [
    {
     "data": {
      "text/latex": [
       "$\\displaystyle 2337.495$"
      ],
      "text/plain": [
       "2337.495"
      ]
     },
     "execution_count": 30,
     "metadata": {},
     "output_type": "execute_result"
    }
   ],
   "source": [
    "wholeVolume = round(totalArea,3)\n",
    "wholeVolume"
   ]
  },
  {
   "cell_type": "code",
   "execution_count": 31,
   "id": "c2af37c2",
   "metadata": {},
   "outputs": [
    {
     "name": "stdout",
     "output_type": "stream",
     "text": [
      "enter volume of pathway: 449.236\n"
     ]
    }
   ],
   "source": [
    "Tube = float(input(\"enter volume of pathway: \"))"
   ]
  },
  {
   "cell_type": "markdown",
   "id": "55f31137",
   "metadata": {},
   "source": [
    "Gets the user to input their value for the volume of the pathway"
   ]
  },
  {
   "cell_type": "code",
   "execution_count": 32,
   "id": "5d566e1d",
   "metadata": {},
   "outputs": [
    {
     "data": {
      "text/plain": [
       "449.236"
      ]
     },
     "execution_count": 32,
     "metadata": {},
     "output_type": "execute_result"
    }
   ],
   "source": [
    "Tube"
   ]
  },
  {
   "cell_type": "code",
   "execution_count": 33,
   "id": "7159e65d",
   "metadata": {},
   "outputs": [
    {
     "data": {
      "text/latex": [
       "$\\displaystyle 1888.259$"
      ],
      "text/plain": [
       "1888.259"
      ]
     },
     "execution_count": 33,
     "metadata": {},
     "output_type": "execute_result"
    }
   ],
   "source": [
    "Aquarium = round(wholeVolume - Tube,3)\n",
    "Aquarium"
   ]
  },
  {
   "cell_type": "markdown",
   "id": "2a02b90a",
   "metadata": {},
   "source": [
    "Working out the volume of the aquarium, excluding the tube in the centre"
   ]
  },
  {
   "cell_type": "code",
   "execution_count": 41,
   "id": "8564c29f",
   "metadata": {},
   "outputs": [
    {
     "name": "stdout",
     "output_type": "stream",
     "text": [
      "enter maximum hours to fill up aquarium: 24\n"
     ]
    }
   ],
   "source": [
    "TimeHours = int(input(\"enter maximum hours to fill up aquarium: \"))"
   ]
  },
  {
   "cell_type": "markdown",
   "id": "f3c064fe",
   "metadata": {},
   "source": [
    "Gets the user to input the time in hours that they aim to fill the aquarium in"
   ]
  },
  {
   "cell_type": "code",
   "execution_count": 42,
   "id": "8a6a046d",
   "metadata": {},
   "outputs": [],
   "source": [
    "TimeMinutes = 60*TimeHours"
   ]
  },
  {
   "cell_type": "markdown",
   "id": "7834dfa2",
   "metadata": {},
   "source": [
    "Converts the time to the standard units for volume/time (minutes)"
   ]
  },
  {
   "cell_type": "code",
   "execution_count": 46,
   "id": "a739f8f6",
   "metadata": {},
   "outputs": [
    {
     "data": {
      "text/latex": [
       "$\\displaystyle 1.311$"
      ],
      "text/plain": [
       "1.311"
      ]
     },
     "execution_count": 46,
     "metadata": {},
     "output_type": "execute_result"
    }
   ],
   "source": [
    "Rate = round(Aquarium/TimeMinutes,3)\n",
    "Rate"
   ]
  },
  {
   "cell_type": "code",
   "execution_count": 45,
   "id": "7f5eab7c",
   "metadata": {},
   "outputs": [
    {
     "name": "stdout",
     "output_type": "stream",
     "text": [
      "No it will not fill up within the time frame\n"
     ]
    }
   ],
   "source": [
    "if Rate>0.9:\n",
    "    print(\"No it will not fill up within the time frame\")\n",
    "if Rate<=0.9:\n",
    "    print(\"Yes it will fill up within the time frame\")"
   ]
  },
  {
   "cell_type": "markdown",
   "id": "ede74806",
   "metadata": {},
   "source": [
    "Works out the rate of flow and whether that is sufficient to get the aquarium full in the time frame"
   ]
  }
 ],
 "metadata": {
  "kernelspec": {
   "display_name": "Python 3",
   "language": "python",
   "name": "python3"
  },
  "language_info": {
   "codemirror_mode": {
    "name": "ipython",
    "version": 3
   },
   "file_extension": ".py",
   "mimetype": "text/x-python",
   "name": "python",
   "nbconvert_exporter": "python",
   "pygments_lexer": "ipython3",
   "version": "3.8.8"
  }
 },
 "nbformat": 4,
 "nbformat_minor": 5
}
